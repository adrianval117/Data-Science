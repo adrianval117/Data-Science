{
 "cells": [
  {
   "cell_type": "code",
   "execution_count": 1,
   "metadata": {},
   "outputs": [],
   "source": [
    "import sqlite3 as sql"
   ]
  },
  {
   "cell_type": "code",
   "execution_count": 2,
   "metadata": {},
   "outputs": [],
   "source": [
    "conexion = sql.connect(\"ejemplo.db\")"
   ]
  },
  {
   "cell_type": "code",
   "execution_count": 3,
   "metadata": {},
   "outputs": [
    {
     "data": {
      "text/plain": [
       "<sqlite3.Connection at 0x58009b0>"
      ]
     },
     "execution_count": 3,
     "metadata": {},
     "output_type": "execute_result"
    }
   ],
   "source": [
    "conexion"
   ]
  },
  {
   "cell_type": "code",
   "execution_count": 4,
   "metadata": {},
   "outputs": [],
   "source": [
    "conexion = sql.connect('ejemplo.db')\n",
    "\n",
    "cursor = conexion.cursor()\n",
    "\n",
    "conexion.close()"
   ]
  },
  {
   "cell_type": "markdown",
   "metadata": {},
   "source": [
    "### Crear una BD"
   ]
  },
  {
   "cell_type": "code",
   "execution_count": 5,
   "metadata": {},
   "outputs": [],
   "source": [
    "conexion = sql.connect(\"ejemplo.db\")\n",
    "cursor = conexion.cursor()\n",
    "\n",
    "# Creamos una tabla llamada Estudiantes\n",
    "cursor.execute(\"CREATE TABLE estudiantes (email VARCHAR(100), carrera VARCHAR(100), nombre VARCHAR(100), edad INTEGER)\")\n",
    "\n",
    "conexion.close()"
   ]
  },
  {
   "cell_type": "markdown",
   "metadata": {},
   "source": [
    "### Insertar con INTO"
   ]
  },
  {
   "cell_type": "code",
   "execution_count": 6,
   "metadata": {},
   "outputs": [],
   "source": [
    "conexion = sql.connect(\"ejemplo.db\")\n",
    "cursor = conexion.cursor()\n",
    "\n",
    "# Insertamos un registro en la tabla\n",
    "cursor.execute(\"INSERT INTO estudiantes VALUES ('bluenote@googlemail.com','Artes','Sharon', 27)\")\n",
    "\n",
    "# Guardamos los cambios haciendo un commit\n",
    "conexion.commit()\n",
    "\n",
    "conexion.close()"
   ]
  },
  {
   "cell_type": "markdown",
   "metadata": {},
   "source": [
    "### SELECT * FROM"
   ]
  },
  {
   "cell_type": "code",
   "execution_count": 7,
   "metadata": {},
   "outputs": [
    {
     "name": "stdout",
     "output_type": "stream",
     "text": [
      "('bluenote@googlemail.com', 'Artes', 'Sharon', 27)\n"
     ]
    }
   ],
   "source": [
    "conexion = sql.connect('ejemplo.db')\n",
    "cursor = conexion.cursor()\n",
    "\n",
    "cursor.execute(\"SELECT * FROM estudiantes\")\n",
    "usuarios = cursor.fetchone()\n",
    "print(usuarios)\n",
    "\n",
    "conexion.close()"
   ]
  },
  {
   "cell_type": "markdown",
   "metadata": {},
   "source": [
    "### Ingresar y leer varios registros al mismo tiempo"
   ]
  },
  {
   "cell_type": "code",
   "execution_count": 8,
   "metadata": {},
   "outputs": [],
   "source": [
    "conexion = sql.connect('ejemplo.db')\n",
    "cursor = conexion.cursor()\n",
    "\n",
    "usuarios = [\n",
    "    ('parrilla@vip.com', 'Arquitec', 'Giulia', 26), \n",
    "    ('lollipop@vip.com', 'Contaduría', 'Rosana', 60), \n",
    "    ('solfer@vip.com', 'Estadística', 'Sol', 30),\n",
    "    ('carlitos@googlemail.com', 'Computación', 'Carlos', 60),\n",
    "    ('imprentadetata@vip.com', 'Periodismo', 'Luciano', 21)\n",
    "]\n",
    "\n",
    "cursor.executemany(\"INSERT INTO estudiantes VALUES (?,?,?,?)\", usuarios)\n",
    "conexion.commit()\n",
    "conexion.close()"
   ]
  },
  {
   "cell_type": "raw",
   "metadata": {},
   "source": [
    "print(\"hey\")"
   ]
  },
  {
   "cell_type": "code",
   "execution_count": 9,
   "metadata": {},
   "outputs": [
    {
     "name": "stdout",
     "output_type": "stream",
     "text": [
      "('bluenote@googlemail.com', 'Artes', 'Sharon', 27)\n",
      "('parrilla@vip.com', 'Arquitec', 'Giulia', 26)\n",
      "('lollipop@vip.com', 'Contaduría', 'Rosana', 60)\n",
      "('solfer@vip.com', 'Estadística', 'Sol', 30)\n",
      "('carlitos@googlemail.com', 'Computación', 'Carlos', 60)\n",
      "('imprentadetata@vip.com', 'Periodismo', 'Luciano', 21)\n"
     ]
    }
   ],
   "source": [
    "conexion = sql.connect('ejemplo.db')\n",
    "cursor = conexion.cursor()\n",
    "cursor.execute(\"SELECT * FROM estudiantes\")\n",
    "usuarios = cursor.fetchall()\n",
    "\n",
    "for u in usuarios: \n",
    "    print(u)\n",
    "conexion.close()"
   ]
  },
  {
   "cell_type": "markdown",
   "metadata": {},
   "source": [
    "## Leer un CSV e insertarlo en BD"
   ]
  },
  {
   "cell_type": "code",
   "execution_count": 27,
   "metadata": {},
   "outputs": [],
   "source": [
    "import csv\n",
    "import os"
   ]
  },
  {
   "cell_type": "code",
   "execution_count": 30,
   "metadata": {},
   "outputs": [],
   "source": [
    "cwd = os.getcwd()\n",
    "DB_PATH = os.path.join(cwd, \"ejemplo.db\")\n",
    "TXT_PATH = os.path.join(cwd, \"datos_db.txt\")"
   ]
  },
  {
   "cell_type": "code",
   "execution_count": 31,
   "metadata": {},
   "outputs": [
    {
     "name": "stdout",
     "output_type": "stream",
     "text": [
      "[('bluenote@googlemail.com', 'Artes', 'Sharon', 27), ('parrilla@vip.com', 'Arquitec', 'Giulia', 26), ('lollipop@vip.com', 'Contaduría', 'Rosana', 60), ('solfer@vip.com', 'Estadística', 'Sol', 30), ('carlitos@googlemail.com', 'Computación', 'Carlos', 60), ('imprentadetata@vip.com', 'Periodismo', 'Luciano', 21), ('paella@vip.com', 'Medicina', 'Giuliana', 27), ('crimewave@vip.com', 'Derecho', 'Alicia', 20), ('prince@orange.com', 'Ingenieria', 'William', 24), ('elrisortdewelini@vip.com', 'Nutrición', 'Chefsito', 25), ('planb@vip.com', 'Artes', 'Chencho', 30), ('channel@boyz.com', 'Letras', 'Frank', 32), ('vinos@aouju.com', 'Nutrición', 'Eugenia', 23)]\n"
     ]
    }
   ],
   "source": [
    "conexion = sql.connect(f\"{PATH}\")\n",
    "cursor = conexion.cursor()\n",
    "\n",
    "#file = open(\"ejemplo.txt\", \"w\") \n",
    "#file.close()\n",
    "\n",
    "file = open(f\"{TXT_PATH}\")\n",
    "filas = csv.reader(file)\n",
    "cursor.executemany(\"INSERT INTO estudiantes VALUES (?,?,?,?)\", filas)\n",
    "\n",
    "cursor.execute(\"SELECT * FROM estudiantes\")\n",
    "print(cursor.fetchall())\n",
    "\n",
    "conexion.commit()\n",
    "conexion.close()"
   ]
  },
  {
   "cell_type": "code",
   "execution_count": null,
   "metadata": {},
   "outputs": [],
   "source": []
  },
  {
   "cell_type": "code",
   "execution_count": null,
   "metadata": {},
   "outputs": [],
   "source": []
  }
 ],
 "metadata": {
  "interpreter": {
   "hash": "a1ead1bfc27d449722fa0143ef3c7281b351028c59668e707a0ff73343de7511"
  },
  "kernelspec": {
   "display_name": "Python 3",
   "language": "python",
   "name": "python3"
  },
  "language_info": {
   "codemirror_mode": {
    "name": "ipython",
    "version": 3
   },
   "file_extension": ".py",
   "mimetype": "text/x-python",
   "name": "python",
   "nbconvert_exporter": "python",
   "pygments_lexer": "ipython3",
   "version": "3.8.5"
  }
 },
 "nbformat": 4,
 "nbformat_minor": 4
}
